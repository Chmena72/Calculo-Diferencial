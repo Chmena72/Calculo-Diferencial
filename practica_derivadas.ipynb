{
 "cells": [
  {
   "cell_type": "markdown",
   "id": "0fb0f1f7",
   "metadata": {},
   "source": [
    "# Práctica de Derivación con SymPy\n",
    "\n",
    "**Nombre:** Jimena Torres\\\n",
    "**Materia:** Cálculo Diferencial  \n",
    "\n",
    "---\n",
    "\n",
    "**Práctica:** Derivación de Funciones con Python"
   ]
  },
  {
   "cell_type": "code",
   "execution_count": 1,
   "id": "aa8d9740",
   "metadata": {},
   "outputs": [],
   "source": [
    "from sympy import symbols, diff, sin, cos, tan, exp, ln, sec, csc, atan, asin, acos, sqrt\n",
    "from sympy.abc import x"
   ]
  },
  {
   "cell_type": "markdown",
   "id": "4cdcd78c",
   "metadata": {},
   "source": [
    "## Ejercicio 1"
   ]
  },
  {
   "cell_type": "code",
   "execution_count": 2,
   "id": "963afd1a",
   "metadata": {},
   "outputs": [
    {
     "data": {
      "text/latex": [
       "$\\displaystyle 3 x^{5} - 7 x^{4} + 4 x^{3} - 9 x^{2} + 2 x - 1$"
      ],
      "text/plain": [
       "3*x**5 - 7*x**4 + 4*x**3 - 9*x**2 + 2*x - 1"
      ]
     },
     "execution_count": 2,
     "metadata": {},
     "output_type": "execute_result"
    }
   ],
   "source": [
    "# Ejercicio 1\n",
    "f = 3*x**5 - 7*x**4 + 4*x**3 - 9*x**2 + 2*x - 1\n",
    "f"
   ]
  },
  {
   "cell_type": "code",
   "execution_count": 24,
   "id": "39fdf3a7",
   "metadata": {},
   "outputs": [
    {
     "data": {
      "text/latex": [
       "$\\displaystyle 15 x^{4} - 28 x^{3} + 12 x^{2} - 18 x + 2$"
      ],
      "text/plain": [
       "15*x**4 - 28*x**3 + 12*x**2 - 18*x + 2"
      ]
     },
     "execution_count": 24,
     "metadata": {},
     "output_type": "execute_result"
    }
   ],
   "source": [
    "derivada = diff(f, x)\n",
    "derivada"
   ]
  },
  {
   "cell_type": "markdown",
   "id": "f851ce88",
   "metadata": {},
   "source": [
    "## Ejercicio 2"
   ]
  },
  {
   "cell_type": "code",
   "execution_count": 32,
   "id": "5a6ad900",
   "metadata": {},
   "outputs": [
    {
     "data": {
      "text/latex": [
       "$\\displaystyle \\left(5 x^{3} - 2 x\\right)^{0.5} + \\frac{1}{x^{3}}$"
      ],
      "text/plain": [
       "(5*x**3 - 2*x)**0.5 + x**(-3)"
      ]
     },
     "execution_count": 32,
     "metadata": {},
     "output_type": "execute_result"
    }
   ],
   "source": [
    "# Ejercicio 2\n",
    "f = (5*x**3 - 2*x)**.5 + (1/x**3)\n",
    "f"
   ]
  },
  {
   "cell_type": "code",
   "execution_count": 33,
   "id": "23335cb1",
   "metadata": {},
   "outputs": [
    {
     "data": {
      "text/latex": [
       "$\\displaystyle \\frac{7.5 x^{2} - 1.0}{\\left(5 x^{3} - 2 x\\right)^{0.5}} - \\frac{3}{x^{4}}$"
      ],
      "text/plain": [
       "(7.5*x**2 - 1.0)/(5*x**3 - 2*x)**0.5 - 3/x**4"
      ]
     },
     "execution_count": 33,
     "metadata": {},
     "output_type": "execute_result"
    }
   ],
   "source": [
    "derivada = diff(f, x)\n",
    "derivada"
   ]
  },
  {
   "cell_type": "markdown",
   "id": "23130543",
   "metadata": {},
   "source": [
    "## Ejercicio 3"
   ]
  },
  {
   "cell_type": "code",
   "execution_count": 34,
   "id": "38fd0180",
   "metadata": {},
   "outputs": [
    {
     "data": {
      "text/latex": [
       "$\\displaystyle \\operatorname{asin}{\\left(3 x \\right)} + \\operatorname{atan}{\\left(2 x \\right)}$"
      ],
      "text/plain": [
       "asin(3*x) + atan(2*x)"
      ]
     },
     "execution_count": 34,
     "metadata": {},
     "output_type": "execute_result"
    }
   ],
   "source": [
    "# Ejercicio 3\n",
    "f = atan(2*x) + asin(3*x)\n",
    "f"
   ]
  },
  {
   "cell_type": "code",
   "execution_count": 35,
   "id": "cd9a6737",
   "metadata": {},
   "outputs": [
    {
     "data": {
      "text/latex": [
       "$\\displaystyle \\frac{2}{4 x^{2} + 1} + \\frac{3}{\\sqrt{1 - 9 x^{2}}}$"
      ],
      "text/plain": [
       "2/(4*x**2 + 1) + 3/sqrt(1 - 9*x**2)"
      ]
     },
     "execution_count": 35,
     "metadata": {},
     "output_type": "execute_result"
    }
   ],
   "source": [
    "derivada = diff(f, x)\n",
    "derivada"
   ]
  },
  {
   "cell_type": "markdown",
   "id": "9400f948",
   "metadata": {},
   "source": [
    "## Ejercicio 4"
   ]
  },
  {
   "cell_type": "code",
   "execution_count": 36,
   "id": "f390686c",
   "metadata": {},
   "outputs": [
    {
     "data": {
      "text/latex": [
       "$\\displaystyle \\sin{\\left(3 x^{2} - 4 x \\right)}$"
      ],
      "text/plain": [
       "sin(3*x**2 - 4*x)"
      ]
     },
     "execution_count": 36,
     "metadata": {},
     "output_type": "execute_result"
    }
   ],
   "source": [
    "# Ejercicio 4\n",
    "f = sin(3*x**2 - 4*x)\n",
    "f"
   ]
  },
  {
   "cell_type": "code",
   "execution_count": 37,
   "id": "ae48e022",
   "metadata": {},
   "outputs": [
    {
     "data": {
      "text/latex": [
       "$\\displaystyle \\left(6 x - 4\\right) \\cos{\\left(3 x^{2} - 4 x \\right)}$"
      ],
      "text/plain": [
       "(6*x - 4)*cos(3*x**2 - 4*x)"
      ]
     },
     "execution_count": 37,
     "metadata": {},
     "output_type": "execute_result"
    }
   ],
   "source": [
    "derivada = diff(f, x)\n",
    "derivada"
   ]
  },
  {
   "cell_type": "markdown",
   "id": "8bb5a18a",
   "metadata": {},
   "source": [
    "## Ejercicio 5"
   ]
  },
  {
   "cell_type": "code",
   "execution_count": 38,
   "id": "d3054741",
   "metadata": {},
   "outputs": [
    {
     "data": {
      "text/latex": [
       "$\\displaystyle \\left(2 x^{3} - 4 x + 1\\right)^{6}$"
      ],
      "text/plain": [
       "(2*x**3 - 4*x + 1)**6"
      ]
     },
     "execution_count": 38,
     "metadata": {},
     "output_type": "execute_result"
    }
   ],
   "source": [
    "# Ejercicio 5\n",
    "f = (2*x**3 - 4*x + 1)**6\n",
    "f"
   ]
  },
  {
   "cell_type": "code",
   "execution_count": 39,
   "id": "d76afd57",
   "metadata": {},
   "outputs": [
    {
     "data": {
      "text/latex": [
       "$\\displaystyle \\left(36 x^{2} - 24\\right) \\left(2 x^{3} - 4 x + 1\\right)^{5}$"
      ],
      "text/plain": [
       "(36*x**2 - 24)*(2*x**3 - 4*x + 1)**5"
      ]
     },
     "execution_count": 39,
     "metadata": {},
     "output_type": "execute_result"
    }
   ],
   "source": [
    "derivada = diff(f, x)\n",
    "derivada"
   ]
  },
  {
   "cell_type": "markdown",
   "id": "83e67cf8",
   "metadata": {},
   "source": [
    "## Ejercicio 6"
   ]
  },
  {
   "cell_type": "code",
   "execution_count": 129,
   "id": "a2395446",
   "metadata": {},
   "outputs": [
    {
     "data": {
      "text/latex": [
       "$\\displaystyle \\sqrt{7 x^{4} - 3 x^{2} + 2}$"
      ],
      "text/plain": [
       "sqrt(7*x**4 - 3*x**2 + 2)"
      ]
     },
     "execution_count": 129,
     "metadata": {},
     "output_type": "execute_result"
    }
   ],
   "source": [
    "# Ejercicio 6\n",
    "f = sqrt(7*x**4 - 3*x**2 + 2)\n",
    "f"
   ]
  },
  {
   "cell_type": "code",
   "execution_count": 130,
   "id": "7d9010bd",
   "metadata": {},
   "outputs": [
    {
     "data": {
      "text/latex": [
       "$\\displaystyle \\frac{14 x^{3} - 3 x}{\\sqrt{7 x^{4} - 3 x^{2} + 2}}$"
      ],
      "text/plain": [
       "(14*x**3 - 3*x)/sqrt(7*x**4 - 3*x**2 + 2)"
      ]
     },
     "execution_count": 130,
     "metadata": {},
     "output_type": "execute_result"
    }
   ],
   "source": [
    "derivada = diff(f, x)\n",
    "derivada"
   ]
  },
  {
   "cell_type": "markdown",
   "id": "de241b6d",
   "metadata": {},
   "source": [
    "## Ejercicio 7"
   ]
  },
  {
   "cell_type": "code",
   "execution_count": 42,
   "id": "ada1cfce",
   "metadata": {},
   "outputs": [
    {
     "data": {
      "text/latex": [
       "$\\displaystyle \\sin{\\left(3 x^{3} - 2 x \\right)}$"
      ],
      "text/plain": [
       "sin(3*x**3 - 2*x)"
      ]
     },
     "execution_count": 42,
     "metadata": {},
     "output_type": "execute_result"
    }
   ],
   "source": [
    "# Ejercicio 7\n",
    "f = sin(3*x**3 - 2*x)\n",
    "f"
   ]
  },
  {
   "cell_type": "code",
   "execution_count": 43,
   "id": "f9f369be",
   "metadata": {},
   "outputs": [
    {
     "data": {
      "text/latex": [
       "$\\displaystyle \\left(9 x^{2} - 2\\right) \\cos{\\left(3 x^{3} - 2 x \\right)}$"
      ],
      "text/plain": [
       "(9*x**2 - 2)*cos(3*x**3 - 2*x)"
      ]
     },
     "execution_count": 43,
     "metadata": {},
     "output_type": "execute_result"
    }
   ],
   "source": [
    "derivada = diff(f, x)\n",
    "derivada"
   ]
  },
  {
   "cell_type": "markdown",
   "id": "9f07589d",
   "metadata": {},
   "source": [
    "## Ejercicio 8"
   ]
  },
  {
   "cell_type": "code",
   "execution_count": 44,
   "id": "451d3f23",
   "metadata": {},
   "outputs": [
    {
     "data": {
      "text/latex": [
       "$\\displaystyle \\cos^{4}{\\left(6 x \\right)}$"
      ],
      "text/plain": [
       "cos(6*x)**4"
      ]
     },
     "execution_count": 44,
     "metadata": {},
     "output_type": "execute_result"
    }
   ],
   "source": [
    "# Ejercicio 8\n",
    "f = cos(6*x)**4\n",
    "f"
   ]
  },
  {
   "cell_type": "code",
   "execution_count": 45,
   "id": "ba869c13",
   "metadata": {},
   "outputs": [
    {
     "data": {
      "text/latex": [
       "$\\displaystyle - 24 \\sin{\\left(6 x \\right)} \\cos^{3}{\\left(6 x \\right)}$"
      ],
      "text/plain": [
       "-24*sin(6*x)*cos(6*x)**3"
      ]
     },
     "execution_count": 45,
     "metadata": {},
     "output_type": "execute_result"
    }
   ],
   "source": [
    "derivada = diff(f, x)\n",
    "derivada"
   ]
  },
  {
   "cell_type": "markdown",
   "id": "d3464d58",
   "metadata": {},
   "source": [
    "## Ejercicio 9"
   ]
  },
  {
   "cell_type": "code",
   "execution_count": 46,
   "id": "d4345db5",
   "metadata": {},
   "outputs": [
    {
     "data": {
      "text/latex": [
       "$\\displaystyle e^{4 x^{3} - 5 x}$"
      ],
      "text/plain": [
       "exp(4*x**3 - 5*x)"
      ]
     },
     "execution_count": 46,
     "metadata": {},
     "output_type": "execute_result"
    }
   ],
   "source": [
    "# Ejercicio 9\n",
    "f = exp(4*x**3 - 5*x)\n",
    "f"
   ]
  },
  {
   "cell_type": "code",
   "execution_count": 47,
   "id": "0e0ff32c",
   "metadata": {},
   "outputs": [
    {
     "data": {
      "text/latex": [
       "$\\displaystyle \\left(12 x^{2} - 5\\right) e^{4 x^{3} - 5 x}$"
      ],
      "text/plain": [
       "(12*x**2 - 5)*exp(4*x**3 - 5*x)"
      ]
     },
     "execution_count": 47,
     "metadata": {},
     "output_type": "execute_result"
    }
   ],
   "source": [
    "derivada = diff(f, x)\n",
    "derivada"
   ]
  },
  {
   "cell_type": "markdown",
   "id": "8d0f9995",
   "metadata": {},
   "source": [
    "## Ejercicio 10"
   ]
  },
  {
   "cell_type": "code",
   "execution_count": 127,
   "id": "2f8667e1",
   "metadata": {},
   "outputs": [
    {
     "data": {
      "text/latex": [
       "$\\displaystyle \\tan{\\left(\\sqrt{3 x^{2} + 2 x} \\right)}$"
      ],
      "text/plain": [
       "tan(sqrt(3*x**2 + 2*x))"
      ]
     },
     "execution_count": 127,
     "metadata": {},
     "output_type": "execute_result"
    }
   ],
   "source": [
    "# Ejercicio 10\n",
    "f = tan(sqrt(3*x**2 + 2*x))\n",
    "f"
   ]
  },
  {
   "cell_type": "code",
   "execution_count": 128,
   "id": "de750751",
   "metadata": {},
   "outputs": [
    {
     "data": {
      "text/latex": [
       "$\\displaystyle \\frac{\\left(3 x + 1\\right) \\left(\\tan^{2}{\\left(\\sqrt{3 x^{2} + 2 x} \\right)} + 1\\right)}{\\sqrt{3 x^{2} + 2 x}}$"
      ],
      "text/plain": [
       "(3*x + 1)*(tan(sqrt(3*x**2 + 2*x))**2 + 1)/sqrt(3*x**2 + 2*x)"
      ]
     },
     "execution_count": 128,
     "metadata": {},
     "output_type": "execute_result"
    }
   ],
   "source": [
    "derivada = diff(f, x)\n",
    "derivada"
   ]
  },
  {
   "cell_type": "markdown",
   "id": "da021826",
   "metadata": {},
   "source": [
    "## Ejercicio 11"
   ]
  },
  {
   "cell_type": "code",
   "execution_count": 50,
   "id": "ef73ba67",
   "metadata": {},
   "outputs": [
    {
     "data": {
      "text/latex": [
       "$\\displaystyle \\sec{\\left(2 x + e^{x^{2}} \\right)}$"
      ],
      "text/plain": [
       "sec(2*x + exp(x**2))"
      ]
     },
     "execution_count": 50,
     "metadata": {},
     "output_type": "execute_result"
    }
   ],
   "source": [
    "# Ejercicio 11\n",
    "f = sec(exp(x**2) + 2*x)\n",
    "f"
   ]
  },
  {
   "cell_type": "code",
   "execution_count": 51,
   "id": "b3877a13",
   "metadata": {},
   "outputs": [
    {
     "data": {
      "text/latex": [
       "$\\displaystyle \\left(2 x e^{x^{2}} + 2\\right) \\tan{\\left(2 x + e^{x^{2}} \\right)} \\sec{\\left(2 x + e^{x^{2}} \\right)}$"
      ],
      "text/plain": [
       "(2*x*exp(x**2) + 2)*tan(2*x + exp(x**2))*sec(2*x + exp(x**2))"
      ]
     },
     "execution_count": 51,
     "metadata": {},
     "output_type": "execute_result"
    }
   ],
   "source": [
    "derivada = diff(f, x)\n",
    "derivada"
   ]
  },
  {
   "cell_type": "markdown",
   "id": "cf037efb",
   "metadata": {},
   "source": [
    "## Ejercicio 12"
   ]
  },
  {
   "cell_type": "code",
   "execution_count": 52,
   "id": "5c20db07",
   "metadata": {},
   "outputs": [
    {
     "data": {
      "text/latex": [
       "$\\displaystyle \\csc{\\left(\\log{\\left(2 x^{3} + 1 \\right)} \\right)}$"
      ],
      "text/plain": [
       "csc(log(2*x**3 + 1))"
      ]
     },
     "execution_count": 52,
     "metadata": {},
     "output_type": "execute_result"
    }
   ],
   "source": [
    "# Ejercicio 12\n",
    "f = csc(ln(2*x**3 + 1))\n",
    "f"
   ]
  },
  {
   "cell_type": "code",
   "execution_count": 53,
   "id": "0f1beaac",
   "metadata": {},
   "outputs": [
    {
     "data": {
      "text/latex": [
       "$\\displaystyle - \\frac{6 x^{2} \\cot{\\left(\\log{\\left(2 x^{3} + 1 \\right)} \\right)} \\csc{\\left(\\log{\\left(2 x^{3} + 1 \\right)} \\right)}}{2 x^{3} + 1}$"
      ],
      "text/plain": [
       "-6*x**2*cot(log(2*x**3 + 1))*csc(log(2*x**3 + 1))/(2*x**3 + 1)"
      ]
     },
     "execution_count": 53,
     "metadata": {},
     "output_type": "execute_result"
    }
   ],
   "source": [
    "derivada = diff(f, x)\n",
    "derivada"
   ]
  },
  {
   "cell_type": "markdown",
   "id": "a6051b97",
   "metadata": {},
   "source": [
    "## Ejercicio 13"
   ]
  },
  {
   "cell_type": "code",
   "execution_count": 125,
   "id": "70489b8d",
   "metadata": {},
   "outputs": [
    {
     "data": {
      "text/latex": [
       "$\\displaystyle \\log{\\left(\\tan{\\left(\\sqrt{4 x^{2} + 3} \\right)} \\right)}$"
      ],
      "text/plain": [
       "log(tan(sqrt(4*x**2 + 3)))"
      ]
     },
     "execution_count": 125,
     "metadata": {},
     "output_type": "execute_result"
    }
   ],
   "source": [
    "# Ejercicio 13\n",
    "f = ln(tan(sqrt(4*x**2 + 3)))\n",
    "f"
   ]
  },
  {
   "cell_type": "code",
   "execution_count": 126,
   "id": "2ed78923",
   "metadata": {},
   "outputs": [
    {
     "data": {
      "text/latex": [
       "$\\displaystyle \\frac{4 x \\left(\\tan^{2}{\\left(\\sqrt{4 x^{2} + 3} \\right)} + 1\\right)}{\\sqrt{4 x^{2} + 3} \\tan{\\left(\\sqrt{4 x^{2} + 3} \\right)}}$"
      ],
      "text/plain": [
       "4*x*(tan(sqrt(4*x**2 + 3))**2 + 1)/(sqrt(4*x**2 + 3)*tan(sqrt(4*x**2 + 3)))"
      ]
     },
     "execution_count": 126,
     "metadata": {},
     "output_type": "execute_result"
    }
   ],
   "source": [
    "derivada = diff(f, x)\n",
    "derivada"
   ]
  },
  {
   "cell_type": "markdown",
   "id": "8f15c2e9",
   "metadata": {},
   "source": [
    "## Ejercicio 14"
   ]
  },
  {
   "cell_type": "code",
   "execution_count": 6,
   "id": "d9e9c3f0",
   "metadata": {},
   "outputs": [
    {
     "data": {
      "text/latex": [
       "$\\displaystyle \\log{\\left(3 x^{3} - 4 x^{2} + 2 \\right)}$"
      ],
      "text/plain": [
       "log(3*x**3 - 4*x**2 + 2)"
      ]
     },
     "execution_count": 6,
     "metadata": {},
     "output_type": "execute_result"
    }
   ],
   "source": [
    "# Ejercicio 14\n",
    "f = ln(3*x**3 - 4*x**2 + 2)\n",
    "f"
   ]
  },
  {
   "cell_type": "code",
   "execution_count": 7,
   "id": "10ff06ab",
   "metadata": {},
   "outputs": [
    {
     "data": {
      "text/latex": [
       "$\\displaystyle \\frac{9 x^{2} - 8 x}{3 x^{3} - 4 x^{2} + 2}$"
      ],
      "text/plain": [
       "(9*x**2 - 8*x)/(3*x**3 - 4*x**2 + 2)"
      ]
     },
     "execution_count": 7,
     "metadata": {},
     "output_type": "execute_result"
    }
   ],
   "source": [
    "derivada = diff(f, x)\n",
    "derivada"
   ]
  },
  {
   "cell_type": "markdown",
   "id": "059a28b3",
   "metadata": {},
   "source": [
    "## Ejercicio 15"
   ]
  },
  {
   "cell_type": "code",
   "execution_count": 123,
   "id": "f5925a03",
   "metadata": {},
   "outputs": [
    {
     "data": {
      "text/latex": [
       "$\\displaystyle \\log{\\left(\\sqrt{2 x^{4} - 3 x + 1} \\right)}$"
      ],
      "text/plain": [
       "log(sqrt(2*x**4 - 3*x + 1))"
      ]
     },
     "execution_count": 123,
     "metadata": {},
     "output_type": "execute_result"
    }
   ],
   "source": [
    "# Ejercicio 15\n",
    "f = ln(sqrt(2*x**4 - 3*x + 1))\n",
    "f"
   ]
  },
  {
   "cell_type": "code",
   "execution_count": 124,
   "id": "a19cfcd9",
   "metadata": {},
   "outputs": [
    {
     "data": {
      "text/latex": [
       "$\\displaystyle \\frac{4 x^{3} - \\frac{3}{2}}{2 x^{4} - 3 x + 1}$"
      ],
      "text/plain": [
       "(4*x**3 - 3/2)/(2*x**4 - 3*x + 1)"
      ]
     },
     "execution_count": 124,
     "metadata": {},
     "output_type": "execute_result"
    }
   ],
   "source": [
    "derivada = diff(f, x)\n",
    "derivada"
   ]
  },
  {
   "cell_type": "markdown",
   "id": "a6554b1e",
   "metadata": {},
   "source": [
    "## Ejercicio 16"
   ]
  },
  {
   "cell_type": "code",
   "execution_count": 119,
   "id": "762e6cc2",
   "metadata": {},
   "outputs": [
    {
     "data": {
      "text/latex": [
       "$\\displaystyle e^{\\sin{\\left(\\sqrt{2 x^{3} + 1} \\right)}}$"
      ],
      "text/plain": [
       "exp(sin(sqrt(2*x**3 + 1)))"
      ]
     },
     "execution_count": 119,
     "metadata": {},
     "output_type": "execute_result"
    }
   ],
   "source": [
    "# Ejercicio 16\n",
    "f = exp(sin(sqrt(2*x**3 + 1)))\n",
    "f"
   ]
  },
  {
   "cell_type": "code",
   "execution_count": 120,
   "id": "92c99508",
   "metadata": {},
   "outputs": [
    {
     "data": {
      "text/latex": [
       "$\\displaystyle \\frac{3 x^{2} e^{\\sin{\\left(\\sqrt{2 x^{3} + 1} \\right)}} \\cos{\\left(\\sqrt{2 x^{3} + 1} \\right)}}{\\sqrt{2 x^{3} + 1}}$"
      ],
      "text/plain": [
       "3*x**2*exp(sin(sqrt(2*x**3 + 1)))*cos(sqrt(2*x**3 + 1))/sqrt(2*x**3 + 1)"
      ]
     },
     "execution_count": 120,
     "metadata": {},
     "output_type": "execute_result"
    }
   ],
   "source": [
    "derivada = diff(f, x)\n",
    "derivada"
   ]
  },
  {
   "cell_type": "markdown",
   "id": "29300fd8",
   "metadata": {},
   "source": [
    "## Ejercicio 17"
   ]
  },
  {
   "cell_type": "code",
   "execution_count": 12,
   "id": "3244102d",
   "metadata": {},
   "outputs": [
    {
     "data": {
      "text/latex": [
       "$\\displaystyle \\log{\\left(\\tan{\\left(x \\right)} + \\sec{\\left(x \\right)} \\right)}$"
      ],
      "text/plain": [
       "log(tan(x) + sec(x))"
      ]
     },
     "execution_count": 12,
     "metadata": {},
     "output_type": "execute_result"
    }
   ],
   "source": [
    "# Ejercicio 17\n",
    "f = ln(sec(x) + tan(x))\n",
    "f"
   ]
  },
  {
   "cell_type": "code",
   "execution_count": 13,
   "id": "261dff5f",
   "metadata": {},
   "outputs": [
    {
     "data": {
      "text/latex": [
       "$\\displaystyle \\frac{\\tan^{2}{\\left(x \\right)} + \\tan{\\left(x \\right)} \\sec{\\left(x \\right)} + 1}{\\tan{\\left(x \\right)} + \\sec{\\left(x \\right)}}$"
      ],
      "text/plain": [
       "(tan(x)**2 + tan(x)*sec(x) + 1)/(tan(x) + sec(x))"
      ]
     },
     "execution_count": 13,
     "metadata": {},
     "output_type": "execute_result"
    }
   ],
   "source": [
    "derivada = diff(f, x)\n",
    "derivada"
   ]
  },
  {
   "cell_type": "markdown",
   "id": "ed11c58e",
   "metadata": {},
   "source": [
    "## Ejercicio 18"
   ]
  },
  {
   "cell_type": "code",
   "execution_count": 14,
   "id": "b06582ab",
   "metadata": {},
   "outputs": [
    {
     "data": {
      "text/latex": [
       "$\\displaystyle \\operatorname{atan}{\\left(e^{2 x} \\right)}$"
      ],
      "text/plain": [
       "atan(exp(2*x))"
      ]
     },
     "execution_count": 14,
     "metadata": {},
     "output_type": "execute_result"
    }
   ],
   "source": [
    "# Ejercicio 18\n",
    "f = atan(exp(2*x))\n",
    "f"
   ]
  },
  {
   "cell_type": "code",
   "execution_count": 15,
   "id": "e42acd1d",
   "metadata": {},
   "outputs": [
    {
     "data": {
      "text/latex": [
       "$\\displaystyle \\frac{2 e^{2 x}}{e^{4 x} + 1}$"
      ],
      "text/plain": [
       "2*exp(2*x)/(exp(4*x) + 1)"
      ]
     },
     "execution_count": 15,
     "metadata": {},
     "output_type": "execute_result"
    }
   ],
   "source": [
    "derivada = diff(f, x)\n",
    "derivada"
   ]
  },
  {
   "cell_type": "markdown",
   "id": "1753c153",
   "metadata": {},
   "source": [
    "## Ejercicio 19"
   ]
  },
  {
   "cell_type": "code",
   "execution_count": 115,
   "id": "b64ac6c2",
   "metadata": {},
   "outputs": [
    {
     "data": {
      "text/latex": [
       "$\\displaystyle \\operatorname{asin}{\\left(\\sqrt{1 - x^{2}} \\right)}$"
      ],
      "text/plain": [
       "asin(sqrt(1 - x**2))"
      ]
     },
     "execution_count": 115,
     "metadata": {},
     "output_type": "execute_result"
    }
   ],
   "source": [
    "# Ejercicio 19\n",
    "f = asin(sqrt(1-x**2))\n",
    "f"
   ]
  },
  {
   "cell_type": "code",
   "execution_count": null,
   "id": "21b6436e",
   "metadata": {},
   "outputs": [
    {
     "data": {
      "text/latex": [
       "$\\displaystyle - \\frac{x}{\\sqrt{1 - x^{2}} \\sqrt{x^{2}}}$"
      ],
      "text/plain": [
       "-x/(sqrt(1 - x**2)*sqrt(x**2))"
      ]
     },
     "execution_count": 116,
     "metadata": {},
     "output_type": "execute_result"
    }
   ],
   "source": [
    "derivada = diff(f, x)\n",
    "derivada"
   ]
  },
  {
   "cell_type": "markdown",
   "id": "ff638552",
   "metadata": {},
   "source": [
    "## Ejercicio 20"
   ]
  },
  {
   "cell_type": "code",
   "execution_count": 18,
   "id": "c6ee77e8",
   "metadata": {},
   "outputs": [
    {
     "data": {
      "text/latex": [
       "$\\displaystyle \\cos{\\left(\\log{\\left(3 x^{2} + 1 \\right)} \\right)}$"
      ],
      "text/plain": [
       "cos(log(3*x**2 + 1))"
      ]
     },
     "execution_count": 18,
     "metadata": {},
     "output_type": "execute_result"
    }
   ],
   "source": [
    "# Ejercicio 20\n",
    "f = cos(ln(3*x**2 + 1))\n",
    "f"
   ]
  },
  {
   "cell_type": "code",
   "execution_count": 19,
   "id": "04bee973",
   "metadata": {},
   "outputs": [
    {
     "data": {
      "text/latex": [
       "$\\displaystyle - \\frac{6 x \\sin{\\left(\\log{\\left(3 x^{2} + 1 \\right)} \\right)}}{3 x^{2} + 1}$"
      ],
      "text/plain": [
       "-6*x*sin(log(3*x**2 + 1))/(3*x**2 + 1)"
      ]
     },
     "execution_count": 19,
     "metadata": {},
     "output_type": "execute_result"
    }
   ],
   "source": [
    "derivada = diff(f, x)\n",
    "derivada"
   ]
  },
  {
   "cell_type": "markdown",
   "id": "9b9110de",
   "metadata": {},
   "source": [
    "## Ejercicio 21"
   ]
  },
  {
   "cell_type": "code",
   "execution_count": 20,
   "id": "80b5307d",
   "metadata": {},
   "outputs": [
    {
     "data": {
      "text/latex": [
       "$\\displaystyle \\tan{\\left(\\log{\\left(x^{2} + 4 \\right)} \\right)}$"
      ],
      "text/plain": [
       "tan(log(x**2 + 4))"
      ]
     },
     "execution_count": 20,
     "metadata": {},
     "output_type": "execute_result"
    }
   ],
   "source": [
    "# Ejercicio 21\n",
    "f = tan(ln(x**2 + 4))\n",
    "f"
   ]
  },
  {
   "cell_type": "code",
   "execution_count": 21,
   "id": "0d65a3ff",
   "metadata": {},
   "outputs": [
    {
     "data": {
      "text/latex": [
       "$\\displaystyle \\frac{2 x \\left(\\tan^{2}{\\left(\\log{\\left(x^{2} + 4 \\right)} \\right)} + 1\\right)}{x^{2} + 4}$"
      ],
      "text/plain": [
       "2*x*(tan(log(x**2 + 4))**2 + 1)/(x**2 + 4)"
      ]
     },
     "execution_count": 21,
     "metadata": {},
     "output_type": "execute_result"
    }
   ],
   "source": [
    "derivada = diff(f, x)\n",
    "derivada"
   ]
  },
  {
   "cell_type": "markdown",
   "id": "d5d1978c",
   "metadata": {},
   "source": [
    "## Ejercicio 22"
   ]
  },
  {
   "cell_type": "code",
   "execution_count": 117,
   "id": "22c204e3",
   "metadata": {},
   "outputs": [
    {
     "data": {
      "text/latex": [
       "$\\displaystyle \\sec{\\left(\\sqrt{5 x^{2} + 1} \\right)}$"
      ],
      "text/plain": [
       "sec(sqrt(5*x**2 + 1))"
      ]
     },
     "execution_count": 117,
     "metadata": {},
     "output_type": "execute_result"
    }
   ],
   "source": [
    "# Ejercicio 22\n",
    "f = sec(sqrt(5*x**2 + 1))\n",
    "f"
   ]
  },
  {
   "cell_type": "code",
   "execution_count": 118,
   "id": "15bde7c7",
   "metadata": {},
   "outputs": [
    {
     "data": {
      "text/latex": [
       "$\\displaystyle \\frac{5 x \\tan{\\left(\\sqrt{5 x^{2} + 1} \\right)} \\sec{\\left(\\sqrt{5 x^{2} + 1} \\right)}}{\\sqrt{5 x^{2} + 1}}$"
      ],
      "text/plain": [
       "5*x*tan(sqrt(5*x**2 + 1))*sec(sqrt(5*x**2 + 1))/sqrt(5*x**2 + 1)"
      ]
     },
     "execution_count": 118,
     "metadata": {},
     "output_type": "execute_result"
    }
   ],
   "source": [
    "derivada = diff(f, x)\n",
    "derivada"
   ]
  },
  {
   "cell_type": "markdown",
   "id": "239d7ac9",
   "metadata": {},
   "source": [
    "## Ejercicio 23"
   ]
  },
  {
   "cell_type": "code",
   "execution_count": 24,
   "id": "039d254c",
   "metadata": {},
   "outputs": [
    {
     "data": {
      "text/latex": [
       "$\\displaystyle \\csc{\\left(2 x + e^{3 x} \\right)}$"
      ],
      "text/plain": [
       "csc(2*x + exp(3*x))"
      ]
     },
     "execution_count": 24,
     "metadata": {},
     "output_type": "execute_result"
    }
   ],
   "source": [
    "# Ejercicio 23\n",
    "f = csc(exp(3*x) + 2*x)\n",
    "f"
   ]
  },
  {
   "cell_type": "code",
   "execution_count": 25,
   "id": "61d2bdf4",
   "metadata": {},
   "outputs": [
    {
     "data": {
      "text/latex": [
       "$\\displaystyle - \\left(3 e^{3 x} + 2\\right) \\cot{\\left(2 x + e^{3 x} \\right)} \\csc{\\left(2 x + e^{3 x} \\right)}$"
      ],
      "text/plain": [
       "-(3*exp(3*x) + 2)*cot(2*x + exp(3*x))*csc(2*x + exp(3*x))"
      ]
     },
     "execution_count": 25,
     "metadata": {},
     "output_type": "execute_result"
    }
   ],
   "source": [
    "derivada = diff(f, x)\n",
    "derivada"
   ]
  },
  {
   "cell_type": "markdown",
   "id": "b1cf2c97",
   "metadata": {},
   "source": [
    "## Ejercicio 24"
   ]
  },
  {
   "cell_type": "code",
   "execution_count": 26,
   "id": "27ff0ae3",
   "metadata": {},
   "outputs": [
    {
     "data": {
      "text/latex": [
       "$\\displaystyle \\log{\\left(\\cos{\\left(e^{x} \\right)} \\right)}$"
      ],
      "text/plain": [
       "log(cos(exp(x)))"
      ]
     },
     "execution_count": 26,
     "metadata": {},
     "output_type": "execute_result"
    }
   ],
   "source": [
    "# Ejercicio 24\n",
    "f = ln(cos(exp(x)))\n",
    "f"
   ]
  },
  {
   "cell_type": "code",
   "execution_count": 27,
   "id": "86593031",
   "metadata": {},
   "outputs": [
    {
     "data": {
      "text/latex": [
       "$\\displaystyle - \\frac{e^{x} \\sin{\\left(e^{x} \\right)}}{\\cos{\\left(e^{x} \\right)}}$"
      ],
      "text/plain": [
       "-exp(x)*sin(exp(x))/cos(exp(x))"
      ]
     },
     "execution_count": 27,
     "metadata": {},
     "output_type": "execute_result"
    }
   ],
   "source": [
    "derivada = diff(f, x)\n",
    "derivada"
   ]
  },
  {
   "cell_type": "markdown",
   "id": "23032ad4",
   "metadata": {},
   "source": [
    "## Ejercicio 25"
   ]
  },
  {
   "cell_type": "code",
   "execution_count": 111,
   "id": "7f7d98e0",
   "metadata": {},
   "outputs": [
    {
     "data": {
      "text/latex": [
       "$\\displaystyle \\operatorname{atan}{\\left(\\sqrt{x^{2} + 1} \\right)}$"
      ],
      "text/plain": [
       "atan(sqrt(x**2 + 1))"
      ]
     },
     "execution_count": 111,
     "metadata": {},
     "output_type": "execute_result"
    }
   ],
   "source": [
    "# Ejercicio 25\n",
    "f = atan(sqrt(x**2 + 1))\n",
    "f"
   ]
  },
  {
   "cell_type": "code",
   "execution_count": 112,
   "id": "e91a7014",
   "metadata": {},
   "outputs": [
    {
     "data": {
      "text/latex": [
       "$\\displaystyle \\frac{x}{\\sqrt{x^{2} + 1} \\left(x^{2} + 2\\right)}$"
      ],
      "text/plain": [
       "x/(sqrt(x**2 + 1)*(x**2 + 2))"
      ]
     },
     "execution_count": 112,
     "metadata": {},
     "output_type": "execute_result"
    }
   ],
   "source": [
    "derivada = diff(f, x)\n",
    "derivada"
   ]
  },
  {
   "cell_type": "markdown",
   "id": "e1b3ab25",
   "metadata": {},
   "source": [
    "## Ejercicio 26"
   ]
  },
  {
   "cell_type": "code",
   "execution_count": 31,
   "id": "381c5e6c",
   "metadata": {},
   "outputs": [
    {
     "data": {
      "text/latex": [
       "$\\displaystyle \\frac{x}{\\sqrt{x^{2} + 1}}$"
      ],
      "text/plain": [
       "x/sqrt(x**2 + 1)"
      ]
     },
     "execution_count": 31,
     "metadata": {},
     "output_type": "execute_result"
    }
   ],
   "source": [
    "# Ejercicio 26\n",
    "f = sin(atan(x))\n",
    "f"
   ]
  },
  {
   "cell_type": "code",
   "execution_count": 32,
   "id": "e25df518",
   "metadata": {},
   "outputs": [
    {
     "data": {
      "text/latex": [
       "$\\displaystyle - \\frac{x^{2}}{\\left(x^{2} + 1\\right)^{\\frac{3}{2}}} + \\frac{1}{\\sqrt{x^{2} + 1}}$"
      ],
      "text/plain": [
       "-x**2/(x**2 + 1)**(3/2) + 1/sqrt(x**2 + 1)"
      ]
     },
     "execution_count": 32,
     "metadata": {},
     "output_type": "execute_result"
    }
   ],
   "source": [
    "derivada = diff(f, x)\n",
    "derivada"
   ]
  },
  {
   "cell_type": "markdown",
   "id": "96817f6f",
   "metadata": {},
   "source": [
    "## Ejercicio 27"
   ]
  },
  {
   "cell_type": "code",
   "execution_count": 33,
   "id": "4f935405",
   "metadata": {},
   "outputs": [
    {
     "data": {
      "text/latex": [
       "$\\displaystyle \\cos{\\left(\\log{\\left(x^{3} + 2 \\right)} \\right)}$"
      ],
      "text/plain": [
       "cos(log(x**3 + 2))"
      ]
     },
     "execution_count": 33,
     "metadata": {},
     "output_type": "execute_result"
    }
   ],
   "source": [
    "# Ejercicio 27\n",
    "f = cos(ln(x**3 + 2))\n",
    "f"
   ]
  },
  {
   "cell_type": "code",
   "execution_count": 34,
   "id": "31850f08",
   "metadata": {},
   "outputs": [
    {
     "data": {
      "text/latex": [
       "$\\displaystyle - \\frac{3 x^{2} \\sin{\\left(\\log{\\left(x^{3} + 2 \\right)} \\right)}}{x^{3} + 2}$"
      ],
      "text/plain": [
       "-3*x**2*sin(log(x**3 + 2))/(x**3 + 2)"
      ]
     },
     "execution_count": 34,
     "metadata": {},
     "output_type": "execute_result"
    }
   ],
   "source": [
    "derivada = diff(f, x)\n",
    "derivada"
   ]
  },
  {
   "cell_type": "markdown",
   "id": "89cc46da",
   "metadata": {},
   "source": [
    "## Ejercicio 28"
   ]
  },
  {
   "cell_type": "code",
   "execution_count": 109,
   "id": "58e76d93",
   "metadata": {},
   "outputs": [
    {
     "data": {
      "text/latex": [
       "$\\displaystyle \\tan{\\left(\\sqrt{e^{x} + 1} \\right)}$"
      ],
      "text/plain": [
       "tan(sqrt(exp(x) + 1))"
      ]
     },
     "execution_count": 109,
     "metadata": {},
     "output_type": "execute_result"
    }
   ],
   "source": [
    "# Ejercicio 28\n",
    "f = tan((sqrt(exp(x) + 1 )))\n",
    "f"
   ]
  },
  {
   "cell_type": "code",
   "execution_count": 110,
   "id": "fdab49a1",
   "metadata": {},
   "outputs": [
    {
     "data": {
      "text/latex": [
       "$\\displaystyle \\frac{\\left(\\tan^{2}{\\left(\\sqrt{e^{x} + 1} \\right)} + 1\\right) e^{x}}{2 \\sqrt{e^{x} + 1}}$"
      ],
      "text/plain": [
       "(tan(sqrt(exp(x) + 1))**2 + 1)*exp(x)/(2*sqrt(exp(x) + 1))"
      ]
     },
     "execution_count": 110,
     "metadata": {},
     "output_type": "execute_result"
    }
   ],
   "source": [
    "derivada = diff(f, x)\n",
    "derivada"
   ]
  },
  {
   "cell_type": "markdown",
   "id": "1226a61e",
   "metadata": {},
   "source": [
    "## Ejercicio 29"
   ]
  },
  {
   "cell_type": "code",
   "execution_count": 37,
   "id": "9c055fe4",
   "metadata": {},
   "outputs": [
    {
     "data": {
      "text/latex": [
       "$\\displaystyle \\sec{\\left(\\log{\\left(x^{2} + 3 \\right)} \\right)}$"
      ],
      "text/plain": [
       "sec(log(x**2 + 3))"
      ]
     },
     "execution_count": 37,
     "metadata": {},
     "output_type": "execute_result"
    }
   ],
   "source": [
    "# Ejercicio 29\n",
    "f = sec(ln(x**2 + 3))\n",
    "f"
   ]
  },
  {
   "cell_type": "code",
   "execution_count": 38,
   "id": "5e349271",
   "metadata": {},
   "outputs": [
    {
     "data": {
      "text/latex": [
       "$\\displaystyle \\frac{2 x \\tan{\\left(\\log{\\left(x^{2} + 3 \\right)} \\right)} \\sec{\\left(\\log{\\left(x^{2} + 3 \\right)} \\right)}}{x^{2} + 3}$"
      ],
      "text/plain": [
       "2*x*tan(log(x**2 + 3))*sec(log(x**2 + 3))/(x**2 + 3)"
      ]
     },
     "execution_count": 38,
     "metadata": {},
     "output_type": "execute_result"
    }
   ],
   "source": [
    "derivada = diff(f, x)\n",
    "derivada"
   ]
  },
  {
   "cell_type": "markdown",
   "id": "3d26cf5a",
   "metadata": {},
   "source": [
    "## Ejercicio 30"
   ]
  },
  {
   "cell_type": "code",
   "execution_count": 107,
   "id": "866933c0",
   "metadata": {},
   "outputs": [
    {
     "data": {
      "text/latex": [
       "$\\displaystyle \\csc{\\left(\\sqrt{x^{4} + 2 x} \\right)}$"
      ],
      "text/plain": [
       "csc(sqrt(x**4 + 2*x))"
      ]
     },
     "execution_count": 107,
     "metadata": {},
     "output_type": "execute_result"
    }
   ],
   "source": [
    "# Ejercicio 30\n",
    "f = csc(sqrt(x**4 + 2*x))\n",
    "f"
   ]
  },
  {
   "cell_type": "code",
   "execution_count": 108,
   "id": "afe16af0",
   "metadata": {},
   "outputs": [
    {
     "data": {
      "text/latex": [
       "$\\displaystyle - \\frac{\\left(2 x^{3} + 1\\right) \\cot{\\left(\\sqrt{x^{4} + 2 x} \\right)} \\csc{\\left(\\sqrt{x^{4} + 2 x} \\right)}}{\\sqrt{x^{4} + 2 x}}$"
      ],
      "text/plain": [
       "-(2*x**3 + 1)*cot(sqrt(x**4 + 2*x))*csc(sqrt(x**4 + 2*x))/sqrt(x**4 + 2*x)"
      ]
     },
     "execution_count": 108,
     "metadata": {},
     "output_type": "execute_result"
    }
   ],
   "source": [
    "derivada = diff(f, x)\n",
    "derivada"
   ]
  },
  {
   "cell_type": "markdown",
   "id": "24097c16",
   "metadata": {},
   "source": [
    "## Ejercicio 31"
   ]
  },
  {
   "cell_type": "code",
   "execution_count": 41,
   "id": "d19361b0",
   "metadata": {},
   "outputs": [
    {
     "data": {
      "text/latex": [
       "$\\displaystyle \\log{\\left(\\tan{\\left(e^{x} \\right)} \\right)}$"
      ],
      "text/plain": [
       "log(tan(exp(x)))"
      ]
     },
     "execution_count": 41,
     "metadata": {},
     "output_type": "execute_result"
    }
   ],
   "source": [
    "# Ejercicio 31\n",
    "f = ln(tan(exp(x)))\n",
    "f"
   ]
  },
  {
   "cell_type": "code",
   "execution_count": 42,
   "id": "dd89ebf5",
   "metadata": {},
   "outputs": [
    {
     "data": {
      "text/latex": [
       "$\\displaystyle \\frac{\\left(\\tan^{2}{\\left(e^{x} \\right)} + 1\\right) e^{x}}{\\tan{\\left(e^{x} \\right)}}$"
      ],
      "text/plain": [
       "(tan(exp(x))**2 + 1)*exp(x)/tan(exp(x))"
      ]
     },
     "execution_count": 42,
     "metadata": {},
     "output_type": "execute_result"
    }
   ],
   "source": [
    "derivada = diff(f, x)\n",
    "derivada"
   ]
  },
  {
   "cell_type": "markdown",
   "id": "10677591",
   "metadata": {},
   "source": [
    "## Ejercicio 32"
   ]
  },
  {
   "cell_type": "code",
   "execution_count": 105,
   "id": "75ab753c",
   "metadata": {},
   "outputs": [
    {
     "data": {
      "text/latex": [
       "$\\displaystyle e^{\\cos{\\left(\\sqrt{x^{2} + 1} \\right)}}$"
      ],
      "text/plain": [
       "exp(cos(sqrt(x**2 + 1)))"
      ]
     },
     "execution_count": 105,
     "metadata": {},
     "output_type": "execute_result"
    }
   ],
   "source": [
    "# Ejercicio 32\n",
    "f = exp(cos(sqrt(x**2 + 1)))\n",
    "f"
   ]
  },
  {
   "cell_type": "code",
   "execution_count": 106,
   "id": "b47fc972",
   "metadata": {},
   "outputs": [
    {
     "data": {
      "text/latex": [
       "$\\displaystyle - \\frac{x e^{\\cos{\\left(\\sqrt{x^{2} + 1} \\right)}} \\sin{\\left(\\sqrt{x^{2} + 1} \\right)}}{\\sqrt{x^{2} + 1}}$"
      ],
      "text/plain": [
       "-x*exp(cos(sqrt(x**2 + 1)))*sin(sqrt(x**2 + 1))/sqrt(x**2 + 1)"
      ]
     },
     "execution_count": 106,
     "metadata": {},
     "output_type": "execute_result"
    }
   ],
   "source": [
    "derivada = diff(f, x)\n",
    "derivada"
   ]
  },
  {
   "cell_type": "markdown",
   "id": "84389624",
   "metadata": {},
   "source": [
    "## Ejercicio 33"
   ]
  },
  {
   "cell_type": "code",
   "execution_count": 47,
   "id": "93b1c1f8",
   "metadata": {},
   "outputs": [
    {
     "data": {
      "text/latex": [
       "$\\displaystyle \\operatorname{atan}{\\left(\\log{\\left(x^{2} + 1 \\right)} \\right)}$"
      ],
      "text/plain": [
       "atan(log(x**2 + 1))"
      ]
     },
     "execution_count": 47,
     "metadata": {},
     "output_type": "execute_result"
    }
   ],
   "source": [
    "# Ejercicio 33\n",
    "f = atan(ln(x**2 + 1))\n",
    "f"
   ]
  },
  {
   "cell_type": "code",
   "execution_count": 48,
   "id": "49b52362",
   "metadata": {},
   "outputs": [
    {
     "data": {
      "text/latex": [
       "$\\displaystyle \\frac{2 x}{\\left(x^{2} + 1\\right) \\left(\\log{\\left(x^{2} + 1 \\right)}^{2} + 1\\right)}$"
      ],
      "text/plain": [
       "2*x/((x**2 + 1)*(log(x**2 + 1)**2 + 1))"
      ]
     },
     "execution_count": 48,
     "metadata": {},
     "output_type": "execute_result"
    }
   ],
   "source": [
    "derivada = diff(f, x)\n",
    "derivada"
   ]
  },
  {
   "cell_type": "markdown",
   "id": "acca9eee",
   "metadata": {},
   "source": [
    "## Ejercicio 34"
   ]
  },
  {
   "cell_type": "code",
   "execution_count": 103,
   "id": "fe9f268b",
   "metadata": {},
   "outputs": [
    {
     "data": {
      "text/latex": [
       "$\\displaystyle \\sin{\\left(\\log{\\left(\\sqrt{x^{2} + 1} \\right)} \\right)}$"
      ],
      "text/plain": [
       "sin(log(sqrt(x**2 + 1)))"
      ]
     },
     "execution_count": 103,
     "metadata": {},
     "output_type": "execute_result"
    }
   ],
   "source": [
    "# Ejercicio 34\n",
    "f = sin(ln(sqrt(x**2 + 1)))\n",
    "f"
   ]
  },
  {
   "cell_type": "code",
   "execution_count": 104,
   "id": "65b50087",
   "metadata": {},
   "outputs": [
    {
     "data": {
      "text/latex": [
       "$\\displaystyle \\frac{x \\cos{\\left(\\log{\\left(\\sqrt{x^{2} + 1} \\right)} \\right)}}{x^{2} + 1}$"
      ],
      "text/plain": [
       "x*cos(log(sqrt(x**2 + 1)))/(x**2 + 1)"
      ]
     },
     "execution_count": 104,
     "metadata": {},
     "output_type": "execute_result"
    }
   ],
   "source": [
    "derivada = diff(f, x)\n",
    "derivada"
   ]
  },
  {
   "cell_type": "markdown",
   "id": "1a5ff8d2",
   "metadata": {},
   "source": [
    "## Ejercicio 35"
   ]
  },
  {
   "cell_type": "code",
   "execution_count": 51,
   "id": "42391c4f",
   "metadata": {},
   "outputs": [
    {
     "data": {
      "text/latex": [
       "$\\displaystyle \\frac{1}{\\sqrt{x^{4} + 1}}$"
      ],
      "text/plain": [
       "1/sqrt(x**4 + 1)"
      ]
     },
     "execution_count": 51,
     "metadata": {},
     "output_type": "execute_result"
    }
   ],
   "source": [
    "# Ejercicio 35\n",
    "f = cos(atan(x**2))\n",
    "f"
   ]
  },
  {
   "cell_type": "code",
   "execution_count": 52,
   "id": "dff88101",
   "metadata": {},
   "outputs": [
    {
     "data": {
      "text/latex": [
       "$\\displaystyle - \\frac{2 x^{3}}{\\left(x^{4} + 1\\right)^{\\frac{3}{2}}}$"
      ],
      "text/plain": [
       "-2*x**3/(x**4 + 1)**(3/2)"
      ]
     },
     "execution_count": 52,
     "metadata": {},
     "output_type": "execute_result"
    }
   ],
   "source": [
    "derivada = diff(f, x)\n",
    "derivada"
   ]
  },
  {
   "cell_type": "markdown",
   "id": "56f04cd0",
   "metadata": {},
   "source": [
    "## Ejercicio 36"
   ]
  },
  {
   "cell_type": "code",
   "execution_count": 101,
   "id": "1ba1fdba",
   "metadata": {},
   "outputs": [
    {
     "data": {
      "text/latex": [
       "$\\displaystyle \\tan{\\left(e^{\\sqrt{x}} \\right)}$"
      ],
      "text/plain": [
       "tan(exp(sqrt(x)))"
      ]
     },
     "execution_count": 101,
     "metadata": {},
     "output_type": "execute_result"
    }
   ],
   "source": [
    "# Ejercicio 36\n",
    "f = tan(exp(sqrt(x)))\n",
    "f"
   ]
  },
  {
   "cell_type": "code",
   "execution_count": 102,
   "id": "c749a26b",
   "metadata": {},
   "outputs": [
    {
     "data": {
      "text/latex": [
       "$\\displaystyle \\frac{\\left(\\tan^{2}{\\left(e^{\\sqrt{x}} \\right)} + 1\\right) e^{\\sqrt{x}}}{2 \\sqrt{x}}$"
      ],
      "text/plain": [
       "(tan(exp(sqrt(x)))**2 + 1)*exp(sqrt(x))/(2*sqrt(x))"
      ]
     },
     "execution_count": 102,
     "metadata": {},
     "output_type": "execute_result"
    }
   ],
   "source": [
    "derivada = diff(f, x)\n",
    "derivada"
   ]
  },
  {
   "cell_type": "markdown",
   "id": "9f433622",
   "metadata": {},
   "source": [
    "## Ejercicio 37"
   ]
  },
  {
   "cell_type": "code",
   "execution_count": 99,
   "id": "2916f65f",
   "metadata": {},
   "outputs": [
    {
     "data": {
      "text/latex": [
       "$\\displaystyle \\sqrt{x^{6} + 1}$"
      ],
      "text/plain": [
       "sqrt(x**6 + 1)"
      ]
     },
     "execution_count": 99,
     "metadata": {},
     "output_type": "execute_result"
    }
   ],
   "source": [
    "# Ejercicio 37\n",
    "f = sec(atan(x**3))\n",
    "f"
   ]
  },
  {
   "cell_type": "code",
   "execution_count": 100,
   "id": "0da828e0",
   "metadata": {},
   "outputs": [
    {
     "data": {
      "text/latex": [
       "$\\displaystyle \\frac{3 x^{5}}{\\sqrt{x^{6} + 1}}$"
      ],
      "text/plain": [
       "3*x**5/sqrt(x**6 + 1)"
      ]
     },
     "execution_count": 100,
     "metadata": {},
     "output_type": "execute_result"
    }
   ],
   "source": [
    "derivada = diff(f, x)\n",
    "derivada"
   ]
  },
  {
   "cell_type": "markdown",
   "id": "1c593dc0",
   "metadata": {},
   "source": [
    "## Ejercicio 38"
   ]
  },
  {
   "cell_type": "code",
   "execution_count": 57,
   "id": "1840e42a",
   "metadata": {},
   "outputs": [
    {
     "data": {
      "text/latex": [
       "$\\displaystyle \\csc{\\left(\\log{\\left(x^{2} + 4 \\right)} \\right)}$"
      ],
      "text/plain": [
       "csc(log(x**2 + 4))"
      ]
     },
     "execution_count": 57,
     "metadata": {},
     "output_type": "execute_result"
    }
   ],
   "source": [
    "# Ejercicio 38\n",
    "f = csc(ln(x**2 + 4))\n",
    "f"
   ]
  },
  {
   "cell_type": "code",
   "execution_count": 58,
   "id": "d28af627",
   "metadata": {},
   "outputs": [
    {
     "data": {
      "text/latex": [
       "$\\displaystyle - \\frac{2 x \\cot{\\left(\\log{\\left(x^{2} + 4 \\right)} \\right)} \\csc{\\left(\\log{\\left(x^{2} + 4 \\right)} \\right)}}{x^{2} + 4}$"
      ],
      "text/plain": [
       "-2*x*cot(log(x**2 + 4))*csc(log(x**2 + 4))/(x**2 + 4)"
      ]
     },
     "execution_count": 58,
     "metadata": {},
     "output_type": "execute_result"
    }
   ],
   "source": [
    "derivada = diff(f, x)\n",
    "derivada"
   ]
  },
  {
   "cell_type": "markdown",
   "id": "d4ead8f3",
   "metadata": {},
   "source": [
    "## Ejercicio 39"
   ]
  },
  {
   "cell_type": "code",
   "execution_count": 59,
   "id": "fc69cfba",
   "metadata": {},
   "outputs": [
    {
     "data": {
      "text/latex": [
       "$\\displaystyle \\log{\\left(\\sin{\\left(e^{x^{2}} \\right)} \\right)}$"
      ],
      "text/plain": [
       "log(sin(exp(x**2)))"
      ]
     },
     "execution_count": 59,
     "metadata": {},
     "output_type": "execute_result"
    }
   ],
   "source": [
    "# Ejercicio 39\n",
    "f = ln(sin(exp(x**2)))\n",
    "f"
   ]
  },
  {
   "cell_type": "code",
   "execution_count": 60,
   "id": "5cf7b5b4",
   "metadata": {},
   "outputs": [
    {
     "data": {
      "text/latex": [
       "$\\displaystyle \\frac{2 x e^{x^{2}} \\cos{\\left(e^{x^{2}} \\right)}}{\\sin{\\left(e^{x^{2}} \\right)}}$"
      ],
      "text/plain": [
       "2*x*exp(x**2)*cos(exp(x**2))/sin(exp(x**2))"
      ]
     },
     "execution_count": 60,
     "metadata": {},
     "output_type": "execute_result"
    }
   ],
   "source": [
    "derivada = diff(f, x)\n",
    "derivada"
   ]
  },
  {
   "cell_type": "markdown",
   "id": "204c6cfd",
   "metadata": {},
   "source": [
    "## Ejercicio 40"
   ]
  },
  {
   "cell_type": "code",
   "execution_count": 93,
   "id": "029106c7",
   "metadata": {},
   "outputs": [
    {
     "data": {
      "text/latex": [
       "$\\displaystyle e^{\\tan{\\left(\\sqrt{x^{2} + 1} \\right)}}$"
      ],
      "text/plain": [
       "exp(tan(sqrt(x**2 + 1)))"
      ]
     },
     "execution_count": 93,
     "metadata": {},
     "output_type": "execute_result"
    }
   ],
   "source": [
    "# Ejercicio 40\n",
    "f = exp(tan(sqrt(x**2 + 1)))\n",
    "f"
   ]
  },
  {
   "cell_type": "code",
   "execution_count": 94,
   "id": "ab3fca90",
   "metadata": {},
   "outputs": [
    {
     "data": {
      "text/latex": [
       "$\\displaystyle \\frac{x \\left(\\tan^{2}{\\left(\\sqrt{x^{2} + 1} \\right)} + 1\\right) e^{\\tan{\\left(\\sqrt{x^{2} + 1} \\right)}}}{\\sqrt{x^{2} + 1}}$"
      ],
      "text/plain": [
       "x*(tan(sqrt(x**2 + 1))**2 + 1)*exp(tan(sqrt(x**2 + 1)))/sqrt(x**2 + 1)"
      ]
     },
     "execution_count": 94,
     "metadata": {},
     "output_type": "execute_result"
    }
   ],
   "source": [
    "derivada = diff(f, x)\n",
    "derivada"
   ]
  },
  {
   "cell_type": "markdown",
   "id": "ab41fcc8",
   "metadata": {},
   "source": [
    "# Encontrar la derivada de estos productos"
   ]
  },
  {
   "cell_type": "markdown",
   "id": "9bb8408f",
   "metadata": {},
   "source": [
    "## Ejercicio 1"
   ]
  },
  {
   "cell_type": "code",
   "execution_count": 63,
   "id": "74c0b997",
   "metadata": {},
   "outputs": [
    {
     "data": {
      "text/latex": [
       "$\\displaystyle \\left(x^{3} + 2 x^{2} - 1\\right) \\sin{\\left(3 x \\right)}$"
      ],
      "text/plain": [
       "(x**3 + 2*x**2 - 1)*sin(3*x)"
      ]
     },
     "execution_count": 63,
     "metadata": {},
     "output_type": "execute_result"
    }
   ],
   "source": [
    "# Ejercicio 1\n",
    "f = (x**3 + 2*x**2 - 1)*sin(3*x)\n",
    "f"
   ]
  },
  {
   "cell_type": "code",
   "execution_count": 64,
   "id": "5ac6259d",
   "metadata": {},
   "outputs": [
    {
     "data": {
      "text/latex": [
       "$\\displaystyle \\left(3 x^{2} + 4 x\\right) \\sin{\\left(3 x \\right)} + 3 \\left(x^{3} + 2 x^{2} - 1\\right) \\cos{\\left(3 x \\right)}$"
      ],
      "text/plain": [
       "(3*x**2 + 4*x)*sin(3*x) + 3*(x**3 + 2*x**2 - 1)*cos(3*x)"
      ]
     },
     "execution_count": 64,
     "metadata": {},
     "output_type": "execute_result"
    }
   ],
   "source": [
    "derivada = diff(f, x)\n",
    "derivada"
   ]
  },
  {
   "cell_type": "markdown",
   "id": "97f056fc",
   "metadata": {},
   "source": [
    "## Ejercicio 2\n"
   ]
  },
  {
   "cell_type": "code",
   "execution_count": 65,
   "id": "63bf8335",
   "metadata": {},
   "outputs": [
    {
     "data": {
      "text/latex": [
       "$\\displaystyle e^{x^{2}} \\log{\\left(x^{2} + 1 \\right)}$"
      ],
      "text/plain": [
       "exp(x**2)*log(x**2 + 1)"
      ]
     },
     "execution_count": 65,
     "metadata": {},
     "output_type": "execute_result"
    }
   ],
   "source": [
    "# Ejercicio 2\n",
    "f = exp(x**2) * ln(x**2 + 1)\n",
    "f"
   ]
  },
  {
   "cell_type": "code",
   "execution_count": 66,
   "id": "e0e86f9a",
   "metadata": {},
   "outputs": [
    {
     "data": {
      "text/latex": [
       "$\\displaystyle 2 x e^{x^{2}} \\log{\\left(x^{2} + 1 \\right)} + \\frac{2 x e^{x^{2}}}{x^{2} + 1}$"
      ],
      "text/plain": [
       "2*x*exp(x**2)*log(x**2 + 1) + 2*x*exp(x**2)/(x**2 + 1)"
      ]
     },
     "execution_count": 66,
     "metadata": {},
     "output_type": "execute_result"
    }
   ],
   "source": [
    "derivada = diff(f, x)\n",
    "derivada"
   ]
  },
  {
   "cell_type": "markdown",
   "id": "7193cade",
   "metadata": {},
   "source": [
    "## Ejercicio 3"
   ]
  },
  {
   "cell_type": "code",
   "execution_count": 67,
   "id": "e6cee13c",
   "metadata": {},
   "outputs": [
    {
     "data": {
      "text/latex": [
       "$\\displaystyle \\cos{\\left(2 x \\right)} \\operatorname{atan}{\\left(x \\right)}$"
      ],
      "text/plain": [
       "cos(2*x)*atan(x)"
      ]
     },
     "execution_count": 67,
     "metadata": {},
     "output_type": "execute_result"
    }
   ],
   "source": [
    "# Ejercicio 3\n",
    "f = cos(2*x) * atan(x)\n",
    "f"
   ]
  },
  {
   "cell_type": "code",
   "execution_count": 68,
   "id": "f7f5021a",
   "metadata": {},
   "outputs": [
    {
     "data": {
      "text/latex": [
       "$\\displaystyle - 2 \\sin{\\left(2 x \\right)} \\operatorname{atan}{\\left(x \\right)} + \\frac{\\cos{\\left(2 x \\right)}}{x^{2} + 1}$"
      ],
      "text/plain": [
       "-2*sin(2*x)*atan(x) + cos(2*x)/(x**2 + 1)"
      ]
     },
     "execution_count": 68,
     "metadata": {},
     "output_type": "execute_result"
    }
   ],
   "source": [
    "derivada = diff(f, x)\n",
    "derivada"
   ]
  },
  {
   "cell_type": "markdown",
   "id": "d4dfb066",
   "metadata": {},
   "source": [
    "## Ejercicio 4"
   ]
  },
  {
   "cell_type": "code",
   "execution_count": 69,
   "id": "51f1802c",
   "metadata": {},
   "outputs": [
    {
     "data": {
      "text/latex": [
       "$\\displaystyle \\left(x^{4} + 3 x^{2} + 1\\right) e^{\\sin{\\left(x \\right)}}$"
      ],
      "text/plain": [
       "(x**4 + 3*x**2 + 1)*exp(sin(x))"
      ]
     },
     "execution_count": 69,
     "metadata": {},
     "output_type": "execute_result"
    }
   ],
   "source": [
    "# Ejercicio 4\n",
    "f = (x**4 + 3*x**2 + 1) * exp(sin(x))\n",
    "f"
   ]
  },
  {
   "cell_type": "code",
   "execution_count": 70,
   "id": "75db9b9a",
   "metadata": {},
   "outputs": [
    {
     "data": {
      "text/latex": [
       "$\\displaystyle \\left(4 x^{3} + 6 x\\right) e^{\\sin{\\left(x \\right)}} + \\left(x^{4} + 3 x^{2} + 1\\right) e^{\\sin{\\left(x \\right)}} \\cos{\\left(x \\right)}$"
      ],
      "text/plain": [
       "(4*x**3 + 6*x)*exp(sin(x)) + (x**4 + 3*x**2 + 1)*exp(sin(x))*cos(x)"
      ]
     },
     "execution_count": 70,
     "metadata": {},
     "output_type": "execute_result"
    }
   ],
   "source": [
    "derivada = diff(f, x)\n",
    "derivada"
   ]
  },
  {
   "cell_type": "markdown",
   "id": "4ebbe74c",
   "metadata": {},
   "source": [
    "## Ejercicio 5"
   ]
  },
  {
   "cell_type": "code",
   "execution_count": 91,
   "id": "38cf4d1a",
   "metadata": {},
   "outputs": [
    {
     "data": {
      "text/latex": [
       "$\\displaystyle \\sqrt{x^{2} + 1} \\tan{\\left(2 x \\right)}$"
      ],
      "text/plain": [
       "sqrt(x**2 + 1)*tan(2*x)"
      ]
     },
     "execution_count": 91,
     "metadata": {},
     "output_type": "execute_result"
    }
   ],
   "source": [
    "# Ejercicio 5\n",
    "f = sqrt(x**2 + 1) * tan(2*x)\n",
    "f"
   ]
  },
  {
   "cell_type": "code",
   "execution_count": 92,
   "id": "646390ce",
   "metadata": {},
   "outputs": [
    {
     "data": {
      "text/latex": [
       "$\\displaystyle \\frac{x \\tan{\\left(2 x \\right)}}{\\sqrt{x^{2} + 1}} + \\sqrt{x^{2} + 1} \\left(2 \\tan^{2}{\\left(2 x \\right)} + 2\\right)$"
      ],
      "text/plain": [
       "x*tan(2*x)/sqrt(x**2 + 1) + sqrt(x**2 + 1)*(2*tan(2*x)**2 + 2)"
      ]
     },
     "execution_count": 92,
     "metadata": {},
     "output_type": "execute_result"
    }
   ],
   "source": [
    "derivada = diff(f, x)\n",
    "derivada"
   ]
  },
  {
   "cell_type": "markdown",
   "id": "bfee2ab3",
   "metadata": {},
   "source": [
    "# Encontrar la derivada de estos cocientes"
   ]
  },
  {
   "cell_type": "markdown",
   "id": "cf278f80",
   "metadata": {},
   "source": [
    "## Ejercicios 1"
   ]
  },
  {
   "cell_type": "code",
   "execution_count": 73,
   "id": "9ba3a109",
   "metadata": {},
   "outputs": [
    {
     "data": {
      "text/latex": [
       "$\\displaystyle \\frac{e^{\\sin{\\left(x^{2} \\right)}}}{\\log{\\left(x^{3} + 2 x \\right)}}$"
      ],
      "text/plain": [
       "exp(sin(x**2))/log(x**3 + 2*x)"
      ]
     },
     "execution_count": 73,
     "metadata": {},
     "output_type": "execute_result"
    }
   ],
   "source": [
    "# Ejercicio 1\n",
    "f = exp(sin(x**2)) / ln(x**3 + 2*x)\n",
    "f"
   ]
  },
  {
   "cell_type": "code",
   "execution_count": 74,
   "id": "d2181692",
   "metadata": {},
   "outputs": [
    {
     "data": {
      "text/latex": [
       "$\\displaystyle \\frac{2 x e^{\\sin{\\left(x^{2} \\right)}} \\cos{\\left(x^{2} \\right)}}{\\log{\\left(x^{3} + 2 x \\right)}} - \\frac{\\left(3 x^{2} + 2\\right) e^{\\sin{\\left(x^{2} \\right)}}}{\\left(x^{3} + 2 x\\right) \\log{\\left(x^{3} + 2 x \\right)}^{2}}$"
      ],
      "text/plain": [
       "2*x*exp(sin(x**2))*cos(x**2)/log(x**3 + 2*x) - (3*x**2 + 2)*exp(sin(x**2))/((x**3 + 2*x)*log(x**3 + 2*x)**2)"
      ]
     },
     "execution_count": 74,
     "metadata": {},
     "output_type": "execute_result"
    }
   ],
   "source": [
    "derivada = diff(f, x)\n",
    "derivada"
   ]
  },
  {
   "cell_type": "markdown",
   "id": "55a7f66a",
   "metadata": {},
   "source": [
    "## Ejercicio 2"
   ]
  },
  {
   "cell_type": "code",
   "execution_count": 89,
   "id": "71c9205e",
   "metadata": {},
   "outputs": [
    {
     "data": {
      "text/latex": [
       "$\\displaystyle \\frac{\\operatorname{atan}{\\left(\\sqrt{x^{2} + 1} \\right)}}{\\cos{\\left(e^{x} \\right)}}$"
      ],
      "text/plain": [
       "atan(sqrt(x**2 + 1))/cos(exp(x))"
      ]
     },
     "execution_count": 89,
     "metadata": {},
     "output_type": "execute_result"
    }
   ],
   "source": [
    "# Ejercicio 2\n",
    "f = atan(sqrt(x**2+1)) / cos(exp(x))\n",
    "f"
   ]
  },
  {
   "cell_type": "code",
   "execution_count": 90,
   "id": "7c8fa9a0",
   "metadata": {},
   "outputs": [
    {
     "data": {
      "text/latex": [
       "$\\displaystyle \\frac{x}{\\sqrt{x^{2} + 1} \\left(x^{2} + 2\\right) \\cos{\\left(e^{x} \\right)}} + \\frac{e^{x} \\sin{\\left(e^{x} \\right)} \\operatorname{atan}{\\left(\\sqrt{x^{2} + 1} \\right)}}{\\cos^{2}{\\left(e^{x} \\right)}}$"
      ],
      "text/plain": [
       "x/(sqrt(x**2 + 1)*(x**2 + 2)*cos(exp(x))) + exp(x)*sin(exp(x))*atan(sqrt(x**2 + 1))/cos(exp(x))**2"
      ]
     },
     "execution_count": 90,
     "metadata": {},
     "output_type": "execute_result"
    }
   ],
   "source": [
    "derivada = diff(f, x)\n",
    "derivada"
   ]
  },
  {
   "cell_type": "markdown",
   "id": "e16e32c8",
   "metadata": {},
   "source": [
    "## Ejercicio 3"
   ]
  },
  {
   "cell_type": "code",
   "execution_count": 87,
   "id": "2bdd1eb0",
   "metadata": {},
   "outputs": [
    {
     "data": {
      "text/latex": [
       "$\\displaystyle \\frac{\\log{\\left(\\tan{\\left(x^{2} + 1 \\right)} \\right)}}{\\sqrt{x^{4} + 3 x}}$"
      ],
      "text/plain": [
       "log(tan(x**2 + 1))/sqrt(x**4 + 3*x)"
      ]
     },
     "execution_count": 87,
     "metadata": {},
     "output_type": "execute_result"
    }
   ],
   "source": [
    "# Ejercicio 3\n",
    "f = ln(tan(x**2 + 1)) / sqrt(x**4 + 3*x)\n",
    "f"
   ]
  },
  {
   "cell_type": "code",
   "execution_count": 88,
   "id": "3806d6e3",
   "metadata": {},
   "outputs": [
    {
     "data": {
      "text/latex": [
       "$\\displaystyle \\frac{2 x \\left(\\tan^{2}{\\left(x^{2} + 1 \\right)} + 1\\right)}{\\sqrt{x^{4} + 3 x} \\tan{\\left(x^{2} + 1 \\right)}} + \\frac{\\left(- 2 x^{3} - \\frac{3}{2}\\right) \\log{\\left(\\tan{\\left(x^{2} + 1 \\right)} \\right)}}{\\left(x^{4} + 3 x\\right)^{\\frac{3}{2}}}$"
      ],
      "text/plain": [
       "2*x*(tan(x**2 + 1)**2 + 1)/(sqrt(x**4 + 3*x)*tan(x**2 + 1)) + (-2*x**3 - 3/2)*log(tan(x**2 + 1))/(x**4 + 3*x)**(3/2)"
      ]
     },
     "execution_count": 88,
     "metadata": {},
     "output_type": "execute_result"
    }
   ],
   "source": [
    "derivada = diff(f, x)\n",
    "derivada"
   ]
  },
  {
   "cell_type": "markdown",
   "id": "e9496a0a",
   "metadata": {},
   "source": [
    "## Ejercicio 4"
   ]
  },
  {
   "cell_type": "code",
   "execution_count": 79,
   "id": "2c6193e6",
   "metadata": {},
   "outputs": [
    {
     "data": {
      "text/latex": [
       "$\\displaystyle \\frac{\\sin{\\left(e^{x^{2}} \\right)}}{\\operatorname{atan}{\\left(\\log{\\left(x \\right)} \\right)}}$"
      ],
      "text/plain": [
       "sin(exp(x**2))/atan(log(x))"
      ]
     },
     "execution_count": 79,
     "metadata": {},
     "output_type": "execute_result"
    }
   ],
   "source": [
    "# Ejercicio 4\n",
    "f = sin(exp(x**2)) / atan(ln(x))\n",
    "f"
   ]
  },
  {
   "cell_type": "code",
   "execution_count": 80,
   "id": "8e846afa",
   "metadata": {},
   "outputs": [
    {
     "data": {
      "text/latex": [
       "$\\displaystyle \\frac{2 x e^{x^{2}} \\cos{\\left(e^{x^{2}} \\right)}}{\\operatorname{atan}{\\left(\\log{\\left(x \\right)} \\right)}} - \\frac{\\sin{\\left(e^{x^{2}} \\right)}}{x \\left(\\log{\\left(x \\right)}^{2} + 1\\right) \\operatorname{atan}^{2}{\\left(\\log{\\left(x \\right)} \\right)}}$"
      ],
      "text/plain": [
       "2*x*exp(x**2)*cos(exp(x**2))/atan(log(x)) - sin(exp(x**2))/(x*(log(x)**2 + 1)*atan(log(x))**2)"
      ]
     },
     "execution_count": 80,
     "metadata": {},
     "output_type": "execute_result"
    }
   ],
   "source": [
    "derivada = diff(f, x)\n",
    "derivada"
   ]
  },
  {
   "cell_type": "markdown",
   "id": "2d5059cc",
   "metadata": {},
   "source": [
    "## Ejercicio 5"
   ]
  },
  {
   "cell_type": "code",
   "execution_count": 85,
   "id": "ce7336df",
   "metadata": {},
   "outputs": [
    {
     "data": {
      "text/latex": [
       "$\\displaystyle \\frac{e^{\\cos{\\left(\\sqrt{x^{3} + 1} \\right)}}}{\\log{\\left(\\sec{\\left(x^{2} \\right)} \\right)}}$"
      ],
      "text/plain": [
       "exp(cos(sqrt(x**3 + 1)))/log(sec(x**2))"
      ]
     },
     "execution_count": 85,
     "metadata": {},
     "output_type": "execute_result"
    }
   ],
   "source": [
    "# Ejercicio 5\n",
    "f = exp(cos(sqrt(x**3 + 1))) / ln(sec(x**2))\n",
    "f"
   ]
  },
  {
   "cell_type": "code",
   "execution_count": 86,
   "id": "0c006dc5",
   "metadata": {},
   "outputs": [
    {
     "data": {
      "text/latex": [
       "$\\displaystyle - \\frac{3 x^{2} e^{\\cos{\\left(\\sqrt{x^{3} + 1} \\right)}} \\sin{\\left(\\sqrt{x^{3} + 1} \\right)}}{2 \\sqrt{x^{3} + 1} \\log{\\left(\\sec{\\left(x^{2} \\right)} \\right)}} - \\frac{2 x e^{\\cos{\\left(\\sqrt{x^{3} + 1} \\right)}} \\tan{\\left(x^{2} \\right)}}{\\log{\\left(\\sec{\\left(x^{2} \\right)} \\right)}^{2}}$"
      ],
      "text/plain": [
       "-3*x**2*exp(cos(sqrt(x**3 + 1)))*sin(sqrt(x**3 + 1))/(2*sqrt(x**3 + 1)*log(sec(x**2))) - 2*x*exp(cos(sqrt(x**3 + 1)))*tan(x**2)/log(sec(x**2))**2"
      ]
     },
     "execution_count": 86,
     "metadata": {},
     "output_type": "execute_result"
    }
   ],
   "source": [
    "derivada = diff(f, x)\n",
    "derivada"
   ]
  }
 ],
 "metadata": {
  "kernelspec": {
   "display_name": "Python 3",
   "language": "python",
   "name": "python3"
  },
  "language_info": {
   "codemirror_mode": {
    "name": "ipython",
    "version": 3
   },
   "file_extension": ".py",
   "mimetype": "text/x-python",
   "name": "python",
   "nbconvert_exporter": "python",
   "pygments_lexer": "ipython3",
   "version": "3.13.3"
  }
 },
 "nbformat": 4,
 "nbformat_minor": 5
}
